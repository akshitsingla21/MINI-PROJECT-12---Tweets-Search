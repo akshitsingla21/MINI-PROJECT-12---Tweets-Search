{
  "nbformat": 4,
  "nbformat_minor": 0,
  "metadata": {
    "colab": {
      "provenance": [],
      "authorship_tag": "ABX9TyNYhB7c6kLArzbnuKwBWsIT",
      "include_colab_link": true
    },
    "kernelspec": {
      "name": "python3",
      "display_name": "Python 3"
    },
    "language_info": {
      "name": "python"
    }
  },
  "cells": [
    {
      "cell_type": "markdown",
      "metadata": {
        "id": "view-in-github",
        "colab_type": "text"
      },
      "source": [
        "<a href=\"https://colab.research.google.com/github/akshitsingla21/MINI-PROJECT-12---Tweets-Search/blob/main/Untitled4.ipynb\" target=\"_parent\"><img src=\"https://colab.research.google.com/assets/colab-badge.svg\" alt=\"Open In Colab\"/></a>"
      ]
    },
    {
      "cell_type": "code",
      "execution_count": null,
      "metadata": {
        "id": "QxcrHNC5d8yF"
      },
      "outputs": [],
      "source": [
        "convert_video_to_audio_moviepy('/content/test.mp4')"
      ]
    },
    {
      "cell_type": "code",
      "source": [
        "access_token = \"501682241-ZG1DshytyxUIUY8FXPoH2AXaDG9d5DQlORemfAzU\"\n",
        "access_token_secret = \"mxwCYkDjgWG5qWy8ONtVs3j2lxiYSxyberVVa92jmd27z\"\n",
        "consumer_key = \"we0Drpnvc1FZNazKkiKoFWlGf\"\n",
        "consumer_secret = \"OXRvmJwM6ca9k90XMIMoktSCa5XvjNieqJivcfjbOAlmpO6RhH\""
      ],
      "metadata": {
        "id": "lvZUm9OBeFKy"
      },
      "execution_count": null,
      "outputs": []
    },
    {
      "cell_type": "code",
      "source": [
        "import os\n",
        "import tweepy as tw\n",
        "import pandas as pd"
      ],
      "metadata": {
        "id": "IePAY7yveHs0"
      },
      "execution_count": null,
      "outputs": []
    },
    {
      "cell_type": "code",
      "source": [
        "auth = tw.OAuthHandler(consumer_key, consumer_secret)\n",
        "auth.set_access_token(access_token, access_token_secret)\n",
        "api = tw.API(auth, wait_on_rate_limit=True)"
      ],
      "metadata": {
        "id": "-oe58geVeKOc"
      },
      "execution_count": null,
      "outputs": []
    },
    {
      "cell_type": "code",
      "source": [
        "# Collect tweets\n",
        "results = api.search(q='dengue', count=100)\n",
        "\n",
        "# We create a pandas dataframe as follows:\n",
        "data = pd.DataFrame(data=[tweet.text for tweet in results], columns=['Tweets'])\n",
        "\n",
        "# We display the first 10 elements of the dataframe:\n",
        "display(data.head(10))"
      ],
      "metadata": {
        "id": "9gd7IKKbeQWf"
      },
      "execution_count": null,
      "outputs": []
    },
    {
      "cell_type": "code",
      "source": [
        "data"
      ],
      "metadata": {
        "id": "W7-iOlcgeTTA"
      },
      "execution_count": null,
      "outputs": []
    },
    {
      "cell_type": "code",
      "source": [
        "df=pd.read_csv('/content/malaria.csv')\n",
        "df"
      ],
      "metadata": {
        "id": "O3IDce3NeWnO"
      },
      "execution_count": null,
      "outputs": []
    },
    {
      "cell_type": "code",
      "source": [
        "import numpy as np\n",
        "import pandas as pd\n",
        "from os import path\n",
        "from PIL import Image\n",
        "from wordcloud import WordCloud, STOPWORDS, ImageColorGenerator\n",
        "import matplotlib.pyplot as plt\n",
        "%matplotlib inline"
      ],
      "metadata": {
        "id": "BpryU1fJeapj"
      },
      "execution_count": null,
      "outputs": []
    },
    {
      "cell_type": "code",
      "source": [
        "text = \" \".join(review for review in df.Tweet)\n",
        "print (\"There are {} words in the combination of all review.\".format(len(text)))"
      ],
      "metadata": {
        "id": "GZoEb49PeisN"
      },
      "execution_count": null,
      "outputs": []
    },
    {
      "cell_type": "code",
      "source": [
        "# Create stopword list:\n",
        "stopwords = set(STOPWORDS)"
      ],
      "metadata": {
        "id": "w6yHM7VOelje"
      },
      "execution_count": null,
      "outputs": []
    },
    {
      "cell_type": "code",
      "source": [
        "# Generate a word cloud image\n",
        "wordcloud = WordCloud(stopwords=stopwords).generate(text)\n",
        "\n",
        "# Display the generated image:\n",
        "# the matplotlib way:\n",
        "plt.figure( figsize=(10,10) )\n",
        "plt.imshow(wordcloud, interpolation='bilinear')\n",
        "plt.axis(\"off\")\n",
        "plt.show()"
      ],
      "metadata": {
        "id": "69mQN8rdemPu"
      },
      "execution_count": null,
      "outputs": []
    },
    {
      "cell_type": "code",
      "source": [
        "wordcloud"
      ],
      "metadata": {
        "id": "nfJBBLRtesr6"
      },
      "execution_count": null,
      "outputs": []
    },
    {
      "cell_type": "code",
      "source": [
        "df[\"mytext_new\"] = df['Tweet'].str.lower().str.replace('[^\\w\\s]','')\n",
        "\n",
        "\n",
        "new_df = df.mytext_new.str.split(expand=True).stack().value_counts().reset_index()\n",
        "\n",
        "new_df.columns = ['Word', 'Frequency']\n",
        "\n",
        "new_df.head(10)"
      ],
      "metadata": {
        "id": "FW3RbP3KexQc"
      },
      "execution_count": null,
      "outputs": []
    }
  ]
}